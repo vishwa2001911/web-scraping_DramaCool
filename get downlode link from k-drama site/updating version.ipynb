{
 "cells": [
  {
   "cell_type": "code",
   "execution_count": 1,
   "id": "d52392a1",
   "metadata": {},
   "outputs": [
    {
     "name": "stdout",
     "output_type": "stream",
     "text": [
      "Input k_drama Title :- Behind Every Star\n",
      "Your file is creating\n",
      "link for epsode 1 is Ready..\n",
      "\n",
      "link for epsode 2 is Ready..\n",
      "\n",
      "link for epsode 3 is Ready..\n",
      "\n",
      "link for epsode 4 is Ready..\n",
      "\n",
      "link for epsode 5 is Ready..\n",
      "\n",
      "Your file is created..\n"
     ]
    }
   ],
   "source": [
    "import requests\n",
    "from bs4 import BeautifulSoup as bf\n",
    "\n",
    "name = input(\"Input k_drama Title :- \")\n",
    "try:\n",
    "    \n",
    "\n",
    "    \n",
    "\n",
    "    def keyword(name_):\n",
    "        \n",
    "\n",
    "        return \"%20\".join(name_.split(\" \"))\n",
    "\n",
    "    url = f\"https://asianplay.pro/search.html?keyword={keyword(name)}\"\n",
    "\n",
    "    #url = \"https://asianplay.pro/search.html?keyword=The%20Love%20in%20Your%20Eyes\"\n",
    "\n",
    "    site_html_content = requests.get(url).content\n",
    "    soup = bf(site_html_content, \"lxml\")\n",
    "    link_part = soup.find_all(\"li\", class_=\"video-block\")[0].a[\"href\"]\n",
    "\n",
    "    new_link = f\"https://asianplay.pro{link_part}\"\n",
    "\n",
    "    #new_link =\"https://asianplay.pro/videos/the-love-in-your-eyes-2022-episode-34\"\n",
    "\n",
    "    new_site_content = requests.get(new_link).content\n",
    "    soup2 = bf(new_site_content, \"lxml\")\n",
    "    _link = soup2.find(\"ul\", class_=\"listing items lists\")\n",
    "    ep_page_links = _link.find_all(\"li\")\n",
    "\n",
    "    link_list = []\n",
    "\n",
    "\n",
    "    for ep_page_link in ep_page_links:\n",
    "        link_list.append(ep_page_link.a[\"href\"])\n",
    "\n",
    "    # inside for loop  'for page_link_part in page_link_parts: '\n",
    "    page_link_parts = link_list[::-1]\n",
    "    soup_3_link_ = []\n",
    "\n",
    "    print(\"Your file is creating\")\n",
    "    count = 1\n",
    "\n",
    "    for page_link_part in page_link_parts:\n",
    "\n",
    "\n",
    "        ep_page_link = f\"https://asianplay.pro{page_link_part}\"\n",
    "        #ep_page_link = \"https://asianplay.pro/videos/the-love-in-your-eyes-2022-episode-1\"\n",
    "        last_site_content = requests.get(ep_page_link).content\n",
    "        soup_3 = bf(last_site_content, \"lxml\")\n",
    "        soup_3_link_list =   soup_3.find(\"iframe\")[\"src\"].split(\"?\")\n",
    "        soup_3_link_list[0] = \"https://asianplay.pro/download\"\n",
    "        soup_3_link = \"?\".join(soup_3_link_list)\n",
    "        soup_3_link_.append(soup_3_link)\n",
    "        print(f\"link for epsode {count} is Ready..\\n\")\n",
    "        count += 1\n",
    "        \n",
    "\n",
    "    f = open(f\"{name}.text\", \"w\")\n",
    "    for i in soup_3_link_:\n",
    "        \n",
    "        n = f\"{i}  \\n\"\n",
    "        f.write(n)\n",
    "\n",
    "    print(\"Your file is created..\")\n",
    "    f.close()\n",
    "    \n",
    "except:\n",
    "    print(\"Check Your series Title again\")\n",
    "\n"
   ]
  },
  {
   "cell_type": "code",
   "execution_count": 19,
   "id": "defd1e27",
   "metadata": {},
   "outputs": [
    {
     "data": {
      "text/plain": [
       "[<a href=\"/\" title=\"Drama &amp; Anime uploader\"><img alt=\"\" src=\"/img/logo.png\"/></a>,\n",
       " <a href=\"/tos.html\">Terms of Service</a>,\n",
       " <a href=\"/copyright-policy.html\">Copyright Policy</a>,\n",
       " <a href=\"/privacy-policy.html\">Privacy Policy</a>,\n",
       " <a href=\"/contact-us.html\">Contact Us</a>]"
      ]
     },
     "execution_count": 19,
     "metadata": {},
     "output_type": "execute_result"
    }
   ],
   "source": [
    "from selenium import webdriver\n",
    "\n",
    "final_page_link = soup_3_link_[0]\n",
    "\n",
    "driver = webdriver.Chrome(executable_path=\"/home/vishwa/chromedriver\")\n",
    "\n",
    "driver.get(final_page_link)\n",
    "soup_final = bf(driver.page_source, \"lxm\")\n",
    "driver.close()\n",
    "\n",
    "soup_final.find_all(\"a\")\n"
   ]
  },
  {
   "cell_type": "code",
   "execution_count": 6,
   "id": "db71d700",
   "metadata": {},
   "outputs": [
    {
     "data": {
      "text/plain": [
       "'https://asianplay.pro/download?id=MzU2Mjkx&x=https://hlsx02.dracache.com/newhls/bf48a09bcb67a8071cfa1a01a62bf51b/ep.1.v2.1667843229.m3u8&title=Behind+Every+Star+%282022%29&typesub=SUB&sub=&cover=Y292ZXIvY2FsbC1teS1hZ2VudC0yMDIyLTE2NjYxMDU2NTUucG5n'"
      ]
     },
     "execution_count": 6,
     "metadata": {},
     "output_type": "execute_result"
    }
   ],
   "source": [
    "final_page_link"
   ]
  },
  {
   "cell_type": "code",
   "execution_count": null,
   "id": "d68086d0",
   "metadata": {},
   "outputs": [],
   "source": []
  }
 ],
 "metadata": {
  "kernelspec": {
   "display_name": "Python 3 (ipykernel)",
   "language": "python",
   "name": "python3"
  },
  "language_info": {
   "codemirror_mode": {
    "name": "ipython",
    "version": 3
   },
   "file_extension": ".py",
   "mimetype": "text/x-python",
   "name": "python",
   "nbconvert_exporter": "python",
   "pygments_lexer": "ipython3",
   "version": "3.9.12"
  }
 },
 "nbformat": 4,
 "nbformat_minor": 5
}
